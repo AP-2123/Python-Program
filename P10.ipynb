{
 "cells": [
  {
   "cell_type": "markdown",
   "id": "03ce4e71",
   "metadata": {},
   "source": [
    "#### 1.Write a Python program to find sum of elements in list?"
   ]
  },
  {
   "cell_type": "code",
   "execution_count": 1,
   "id": "debbbef0",
   "metadata": {},
   "outputs": [
    {
     "name": "stdout",
     "output_type": "stream",
     "text": [
      "95\n"
     ]
    }
   ],
   "source": [
    "lst1 = [10,20,5,60]\n",
    "sum_num = 0\n",
    "for i in range(len(lst1)):\n",
    "    sum_num = sum_num + lst1[i]\n",
    "\n",
    "print(sum_num)"
   ]
  },
  {
   "cell_type": "code",
   "execution_count": 2,
   "id": "2c0ea0f5",
   "metadata": {},
   "outputs": [
    {
     "name": "stdout",
     "output_type": "stream",
     "text": [
      "95\n"
     ]
    }
   ],
   "source": [
    "lst1 = [10,20,5,60]\n",
    "sum_num = 0\n",
    "for i in lst1:\n",
    "    sum_num = sum_num + i\n",
    "\n",
    "print(sum_num)"
   ]
  },
  {
   "cell_type": "code",
   "execution_count": 3,
   "id": "1a93bdb5",
   "metadata": {},
   "outputs": [
    {
     "name": "stdout",
     "output_type": "stream",
     "text": [
      "95\n"
     ]
    }
   ],
   "source": [
    "def sum_list(numbers):\n",
    "    sum_num = 0\n",
    "    for i in numbers:\n",
    "        sum_num += i\n",
    "    return sum_num\n",
    "print(sum_list([10,20,5,60]))"
   ]
  },
  {
   "cell_type": "markdown",
   "id": "c5860da2",
   "metadata": {},
   "source": [
    "#### 2.Write a Python program to  Multiply all numbers in the list?"
   ]
  },
  {
   "cell_type": "code",
   "execution_count": 4,
   "id": "7b8ac2bb",
   "metadata": {},
   "outputs": [
    {
     "name": "stdout",
     "output_type": "stream",
     "text": [
      "20\n"
     ]
    }
   ],
   "source": [
    "lst2 = [1,2,2,5]\n",
    "mul_num = 1\n",
    "for i in range(len(lst2)):\n",
    "    mul_num = mul_num * lst2[i]\n",
    "\n",
    "print(mul_num)"
   ]
  },
  {
   "cell_type": "code",
   "execution_count": 5,
   "id": "68cc7cbc",
   "metadata": {},
   "outputs": [
    {
     "name": "stdout",
     "output_type": "stream",
     "text": [
      "6\n"
     ]
    }
   ],
   "source": [
    "def multiply(num):  \n",
    "    mul_num = 1\n",
    "    for i in num:\n",
    "        mul_num = mul_num * i\n",
    "    return mul_num \n",
    "print(multiply([1,2,3]))\n"
   ]
  },
  {
   "cell_type": "markdown",
   "id": "58e7c35b",
   "metadata": {},
   "source": [
    "#### 3.Write a Python program to find smallest number in a list?"
   ]
  },
  {
   "cell_type": "code",
   "execution_count": 6,
   "id": "eec99b18",
   "metadata": {},
   "outputs": [
    {
     "data": {
      "text/plain": [
       "[1, 2, 3, 0, 5, 55, 10]"
      ]
     },
     "execution_count": 6,
     "metadata": {},
     "output_type": "execute_result"
    }
   ],
   "source": [
    "lst3 = [1,2,3,0,5,55,10]\n",
    "lst3"
   ]
  },
  {
   "cell_type": "code",
   "execution_count": 7,
   "id": "0f81a06c",
   "metadata": {},
   "outputs": [
    {
     "name": "stdout",
     "output_type": "stream",
     "text": [
      "0\n"
     ]
    }
   ],
   "source": [
    "min_ = lst3[0]\n",
    "for i in lst3:\n",
    "    if i<min_:\n",
    "        min_ = i\n",
    "print(min_)"
   ]
  },
  {
   "cell_type": "code",
   "execution_count": 8,
   "id": "00436353",
   "metadata": {},
   "outputs": [
    {
     "data": {
      "text/plain": [
       "[0, 1, 2, 3, 5, 10, 55]"
      ]
     },
     "execution_count": 8,
     "metadata": {},
     "output_type": "execute_result"
    }
   ],
   "source": [
    "lst3.sort()\n",
    "lst3"
   ]
  },
  {
   "cell_type": "code",
   "execution_count": 9,
   "id": "0a055942",
   "metadata": {},
   "outputs": [
    {
     "data": {
      "text/plain": [
       "0"
      ]
     },
     "execution_count": 9,
     "metadata": {},
     "output_type": "execute_result"
    }
   ],
   "source": [
    "lst3[0]"
   ]
  },
  {
   "cell_type": "markdown",
   "id": "8450a736",
   "metadata": {},
   "source": [
    "#### 4.Write a Python program to find largest number in a list?"
   ]
  },
  {
   "cell_type": "code",
   "execution_count": 10,
   "id": "fe414296",
   "metadata": {},
   "outputs": [
    {
     "name": "stdout",
     "output_type": "stream",
     "text": [
      "22\n"
     ]
    }
   ],
   "source": [
    "lst4 = [1,2,3,0,5,11,22]\n",
    "max_ = lst4[0]\n",
    "for i in lst4:\n",
    "    if i>max_:\n",
    "        max_ = i\n",
    "print(max_)"
   ]
  },
  {
   "cell_type": "code",
   "execution_count": 11,
   "id": "d35d835a",
   "metadata": {},
   "outputs": [
    {
     "data": {
      "text/plain": [
       "[0, 1, 2, 3, 5, 11, 22]"
      ]
     },
     "execution_count": 11,
     "metadata": {},
     "output_type": "execute_result"
    }
   ],
   "source": [
    "lst4.sort()\n",
    "lst4"
   ]
  },
  {
   "cell_type": "code",
   "execution_count": 12,
   "id": "f0c1a55a",
   "metadata": {},
   "outputs": [
    {
     "data": {
      "text/plain": [
       "22"
      ]
     },
     "execution_count": 12,
     "metadata": {},
     "output_type": "execute_result"
    }
   ],
   "source": [
    "lst4[-1]"
   ]
  },
  {
   "cell_type": "markdown",
   "id": "6b98941e",
   "metadata": {},
   "source": [
    "#### 5.Write a Python program to find second largest number in a list?"
   ]
  },
  {
   "cell_type": "code",
   "execution_count": 13,
   "id": "fcef4636",
   "metadata": {},
   "outputs": [
    {
     "data": {
      "text/plain": [
       "11"
      ]
     },
     "execution_count": 13,
     "metadata": {},
     "output_type": "execute_result"
    }
   ],
   "source": [
    "lst4[-2]"
   ]
  },
  {
   "cell_type": "markdown",
   "id": "a13d95d5",
   "metadata": {},
   "source": [
    "#### 6.Write a Python program to find N largest elements from a list?"
   ]
  },
  {
   "cell_type": "code",
   "execution_count": 14,
   "id": "955bcadc",
   "metadata": {},
   "outputs": [
    {
     "name": "stdout",
     "output_type": "stream",
     "text": [
      "1 max elements in  [2, 6, 41, 85, 0, 3, 7, 6, 10]\n",
      "[85]\n"
     ]
    }
   ],
   "source": [
    "def N_max_elements(list, N):\n",
    "    result_list = []\n",
    "  \n",
    "    for i in range(0, N): \n",
    "        maximum = 0\n",
    "          \n",
    "        for j in range(len(list)):     \n",
    "            if list[j] > maximum:\n",
    "                maximum = list[j]\n",
    "                  \n",
    "        list.remove(maximum)\n",
    "        result_list.append(maximum)\n",
    "          \n",
    "    return result_list\n",
    "  \n",
    "\n",
    "lst5 = [2, 6, 41, 85, 0, 3, 7, 6, 10]\n",
    "N = 1\n",
    "\n",
    "print(N, \"max elements in \",lst5)\n",
    "  \n",
    "print(N_max_elements(lst5, N))\n"
   ]
  },
  {
   "cell_type": "markdown",
   "id": "51b5fa36",
   "metadata": {},
   "source": [
    "#### 7.Write a Python program to print even numbers in a list?"
   ]
  },
  {
   "cell_type": "code",
   "execution_count": 15,
   "id": "376e39e7",
   "metadata": {},
   "outputs": [
    {
     "name": "stdout",
     "output_type": "stream",
     "text": [
      "[2, 6, 8, 10]\n"
     ]
    }
   ],
   "source": [
    "lst6 = [2,6,7,8,10,11]\n",
    "lst7 = []\n",
    "for i in lst6:\n",
    "    if i % 2 == 0:\n",
    "        lst7.append(i)\n",
    "print(lst7)\n",
    "        "
   ]
  },
  {
   "cell_type": "markdown",
   "id": "6ea8ef4e",
   "metadata": {},
   "source": [
    "#### 8.Write a Python program to print odd numbers in a List?"
   ]
  },
  {
   "cell_type": "code",
   "execution_count": 16,
   "id": "15add924",
   "metadata": {},
   "outputs": [
    {
     "name": "stdout",
     "output_type": "stream",
     "text": [
      "[7, 11, 55, 1]\n"
     ]
    }
   ],
   "source": [
    "lst8 = [2,6,7,8,10,11,55,10,2,1]\n",
    "lst9 = []\n",
    "for i in lst8:\n",
    "    if i % 2 != 0:\n",
    "        lst9.append(i)\n",
    "print(lst9)\n",
    "        "
   ]
  },
  {
   "cell_type": "markdown",
   "id": "82171733",
   "metadata": {},
   "source": [
    "#### 9.Write a Python program to Remove empty List from List?"
   ]
  },
  {
   "cell_type": "code",
   "execution_count": 17,
   "id": "32613bb2",
   "metadata": {},
   "outputs": [
    {
     "name": "stdout",
     "output_type": "stream",
     "text": [
      "[10, 20, 5, 8, 1]\n"
     ]
    }
   ],
   "source": [
    "lst10 = [10,20,[],5,8,[],1]\n",
    "lst11 = []\n",
    "for i in lst10:\n",
    "    if i!=[]:\n",
    "        lst11.append(i)\n",
    "print(lst11)\n",
    "        "
   ]
  },
  {
   "cell_type": "markdown",
   "id": "ecfc0972",
   "metadata": {},
   "source": [
    "#### 10.Write a Python program to Cloning or Copying a list?"
   ]
  },
  {
   "cell_type": "code",
   "execution_count": 18,
   "id": "5479343c",
   "metadata": {},
   "outputs": [
    {
     "data": {
      "text/plain": [
       "[1, 2, 3, 4]"
      ]
     },
     "execution_count": 18,
     "metadata": {},
     "output_type": "execute_result"
    }
   ],
   "source": [
    "lst12 = [1,2,3,4]\n",
    "lst13 = lst12.copy()\n",
    "lst13"
   ]
  },
  {
   "cell_type": "markdown",
   "id": "9056ea28",
   "metadata": {},
   "source": [
    "#### 11.Write a Python program to Count occurrences of an element in a list?"
   ]
  },
  {
   "cell_type": "code",
   "execution_count": 19,
   "id": "35dcd5cd",
   "metadata": {},
   "outputs": [],
   "source": [
    "lst14 = [1,1,3,7,9,10,12,7,8,6,20,5,1,1]"
   ]
  },
  {
   "cell_type": "code",
   "execution_count": 20,
   "id": "ee0049ef",
   "metadata": {},
   "outputs": [
    {
     "name": "stdout",
     "output_type": "stream",
     "text": [
      "4\n"
     ]
    }
   ],
   "source": [
    "x = 1\n",
    "count = 0\n",
    "for i in lst14:\n",
    "    if (i == x):\n",
    "        count = count + 1\n",
    "print(count)\n"
   ]
  },
  {
   "cell_type": "code",
   "execution_count": null,
   "id": "2c6d5b1c",
   "metadata": {},
   "outputs": [],
   "source": []
  }
 ],
 "metadata": {
  "kernelspec": {
   "display_name": "Python 3 (ipykernel)",
   "language": "python",
   "name": "python3"
  },
  "language_info": {
   "codemirror_mode": {
    "name": "ipython",
    "version": 3
   },
   "file_extension": ".py",
   "mimetype": "text/x-python",
   "name": "python",
   "nbconvert_exporter": "python",
   "pygments_lexer": "ipython3",
   "version": "3.9.12"
  }
 },
 "nbformat": 4,
 "nbformat_minor": 5
}
