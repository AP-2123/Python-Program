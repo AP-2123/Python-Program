{
 "cells": [
  {
   "cell_type": "markdown",
   "id": "7a9b44fa",
   "metadata": {},
   "source": [
    "#### 1.Write a Python Program to find sum of array?"
   ]
  },
  {
   "cell_type": "code",
   "execution_count": 1,
   "id": "bedbcad0",
   "metadata": {},
   "outputs": [
    {
     "name": "stdout",
     "output_type": "stream",
     "text": [
      "Sum of all the elements of an array: 15\n"
     ]
    }
   ],
   "source": [
    "arr = [1, 2, 3, 4, 5];     \n",
    "sum_ = 0;    \n",
    "\n",
    "for i in range(0, len(arr)):    \n",
    "    sum_ = sum_ + arr[i];    \n",
    "     \n",
    "print(\"Sum of all the elements of an array: \" + str(sum_))  "
   ]
  },
  {
   "cell_type": "code",
   "execution_count": 2,
   "id": "8009e1cc",
   "metadata": {},
   "outputs": [
    {
     "name": "stdout",
     "output_type": "stream",
     "text": [
      "Sum of the array is  15\n"
     ]
    }
   ],
   "source": [
    "def sum_arr(arr):\n",
    "    sum_ = 0\n",
    "    for i in arr:\n",
    "        sum_ = sum_ + i\n",
    "\n",
    "    return(sum_)\n",
    "\n",
    "print('Sum of the array is ', sum_arr(arr))\n"
   ]
  },
  {
   "cell_type": "markdown",
   "id": "0081862d",
   "metadata": {},
   "source": [
    "##### 2.Write a Python Program to find largest element in an array?"
   ]
  },
  {
   "cell_type": "code",
   "execution_count": 4,
   "id": "fcf8b222",
   "metadata": {},
   "outputs": [
    {
     "name": "stdout",
     "output_type": "stream",
     "text": [
      "Largest element present in given array: 100\n"
     ]
    }
   ],
   "source": [
    "arr = [25, 11, 7, 75, 56,100];     \n",
    "       \n",
    "max = arr[0];    \n",
    "       \n",
    "for i in range(0, len(arr)):      \n",
    "    if(arr[i] > max):    \n",
    "        max = arr[i];    \n",
    "           \n",
    "print(\"Largest element present in given array: \" + str(max));   "
   ]
  },
  {
   "cell_type": "markdown",
   "id": "a808da41",
   "metadata": {},
   "source": [
    "#### 3.Write a Python Program for array rotation?"
   ]
  },
  {
   "cell_type": "code",
   "execution_count": 6,
   "id": "f311252f",
   "metadata": {},
   "outputs": [
    {
     "name": "stdout",
     "output_type": "stream",
     "text": [
      "Array after left rotation is:  [3, 4, 5, 6, 7, 1, 2]\n"
     ]
    }
   ],
   "source": [
    "def rotateArray(arr, n, d):\n",
    "    temp = []\n",
    "    i = 0\n",
    "    while (i < d):\n",
    "        temp.append(arr[i])\n",
    "        i = i + 1\n",
    "    i = 0\n",
    "    while (d < n):\n",
    "        arr[i] = arr[d]\n",
    "        i = i + 1\n",
    "        d = d + 1\n",
    "    arr[:] = arr[: i] + temp\n",
    "    return arr\n",
    "\n",
    "arr = [1, 2, 3, 4, 5, 6, 7]\n",
    "print(\"Array after left rotation is: \", end=' ')\n",
    "print(rotateArray(arr, len(arr), 2))\n"
   ]
  },
  {
   "cell_type": "markdown",
   "id": "db5a579c",
   "metadata": {},
   "source": [
    "#### 4.Write a Python Program to Split the array and add the first part to the end?"
   ]
  },
  {
   "cell_type": "code",
   "execution_count": 8,
   "id": "bdd0f51f",
   "metadata": {},
   "outputs": [
    {
     "name": "stdout",
     "output_type": "stream",
     "text": [
      "The list is :\n",
      "[34, 42, 56, 78, 9, 0, 23]\n",
      "The split_list method is being called\n",
      "78\n",
      "9\n",
      "0\n",
      "23\n",
      "34\n",
      "42\n",
      "56\n"
     ]
    }
   ],
   "source": [
    "def split_list(my_list, n_val, k_val):\n",
    "    for i in range(0, k_val):\n",
    "        first_val = my_list[0]\n",
    "        for k in range(0, n_val-1):\n",
    "            my_list[k] = my_list[k + 1]\n",
    "        my_list[n_val-1] = first_val\n",
    "my_list = [34, 42, 56, 78, 9, 0, 23]\n",
    "list_len = len(my_list)\n",
    "pos = 3\n",
    "print(\"The list is :\")\n",
    "print(my_list)\n",
    "print(\"The split_list method is being called\")\n",
    "split_list(my_list, list_len, pos)\n",
    "for i in range(0, list_len):\n",
    "    print(my_list[i])"
   ]
  },
  {
   "cell_type": "markdown",
   "id": "a18a5493",
   "metadata": {},
   "source": [
    "#### 5.Write a Python Program to check if given array is Monotonic?"
   ]
  },
  {
   "cell_type": "code",
   "execution_count": 9,
   "id": "5b0a44a4",
   "metadata": {},
   "outputs": [
    {
     "name": "stdout",
     "output_type": "stream",
     "text": [
      "True\n"
     ]
    }
   ],
   "source": [
    "def isMonotonic(A):\n",
    "    x, y = [], []\n",
    "    x.extend(A)\n",
    "    y.extend(A)\n",
    "    x.sort()\n",
    "    y.sort(reverse=True)\n",
    "    if(x == A or y == A):\n",
    "        return True\n",
    "    return False\n",
    "\n",
    "A = [6, 5, 4, 4]\n",
    "\n",
    "print(isMonotonic(A))\n"
   ]
  },
  {
   "cell_type": "code",
   "execution_count": null,
   "id": "029f8257",
   "metadata": {},
   "outputs": [],
   "source": []
  }
 ],
 "metadata": {
  "kernelspec": {
   "display_name": "Python 3 (ipykernel)",
   "language": "python",
   "name": "python3"
  },
  "language_info": {
   "codemirror_mode": {
    "name": "ipython",
    "version": 3
   },
   "file_extension": ".py",
   "mimetype": "text/x-python",
   "name": "python",
   "nbconvert_exporter": "python",
   "pygments_lexer": "ipython3",
   "version": "3.9.12"
  }
 },
 "nbformat": 4,
 "nbformat_minor": 5
}
