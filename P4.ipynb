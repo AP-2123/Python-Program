{
 "cells": [
  {
   "cell_type": "markdown",
   "id": "8014c1a8",
   "metadata": {},
   "source": [
    "#### 1.Write a Python Program to Find the Factorial of a Number?"
   ]
  },
  {
   "cell_type": "code",
   "execution_count": 1,
   "id": "8a7363a2",
   "metadata": {},
   "outputs": [
    {
     "name": "stdout",
     "output_type": "stream",
     "text": [
      "24\n"
     ]
    }
   ],
   "source": [
    "num = 4\n",
    "fact = 1\n",
    "for i in range (1,num+1):\n",
    "    fact = fact *i\n",
    "print(fact)"
   ]
  },
  {
   "cell_type": "code",
   "execution_count": 2,
   "id": "ae2d457a",
   "metadata": {},
   "outputs": [
    {
     "data": {
      "text/plain": [
       "24"
      ]
     },
     "execution_count": 2,
     "metadata": {},
     "output_type": "execute_result"
    }
   ],
   "source": [
    "def fact(num):\n",
    "    fact = 1\n",
    "    for i in range (1,num+1):\n",
    "        fact = fact *i\n",
    "    return fact\n",
    "\n",
    "fact(4)"
   ]
  },
  {
   "cell_type": "markdown",
   "id": "d8ed60f2",
   "metadata": {},
   "source": [
    "#### 2.Write a Python Program to Display the multiplication Table?"
   ]
  },
  {
   "cell_type": "code",
   "execution_count": 3,
   "id": "ef13c4ab",
   "metadata": {},
   "outputs": [
    {
     "name": "stdout",
     "output_type": "stream",
     "text": [
      "10 X 1 = 10\n",
      "10 X 2 = 20\n",
      "10 X 3 = 30\n",
      "10 X 4 = 40\n",
      "10 X 5 = 50\n",
      "10 X 6 = 60\n",
      "10 X 7 = 70\n",
      "10 X 8 = 80\n",
      "10 X 9 = 90\n",
      "10 X 10 = 100\n"
     ]
    }
   ],
   "source": [
    "num = 10\n",
    "\n",
    "for i in range(1,num+1):\n",
    "    print(num,'X',i, '=',num*i )"
   ]
  },
  {
   "cell_type": "markdown",
   "id": "1f103c85",
   "metadata": {},
   "source": [
    "#### 3.Write a Python Program to Print the Fibonacci sequence?"
   ]
  },
  {
   "cell_type": "code",
   "execution_count": 4,
   "id": "7f7271c8",
   "metadata": {},
   "outputs": [
    {
     "name": "stdout",
     "output_type": "stream",
     "text": [
      "How many terms? 10\n",
      "Fibonacci sequence:\n",
      "0\n",
      "1\n",
      "1\n",
      "2\n",
      "3\n",
      "5\n",
      "8\n",
      "13\n",
      "21\n",
      "34\n"
     ]
    }
   ],
   "source": [
    "nterms = int(input(\"How many terms? \"))\n",
    "\n",
    "n1, n2 = 0, 1\n",
    "count = 0\n",
    "if nterms <= 0:\n",
    "    print(\"Please enter a positive integer\")\n",
    "elif nterms == 1:\n",
    "    print(\"Fibonacci sequence upto\",nterms,\":\")\n",
    "    print(n1)\n",
    "else:\n",
    "    print(\"Fibonacci sequence:\")\n",
    "    while count < nterms:\n",
    "        print(n1)\n",
    "        nth = n1 + n2\n",
    "        n1 = n2\n",
    "        n2 = nth\n",
    "        count += 1"
   ]
  },
  {
   "cell_type": "code",
   "execution_count": 9,
   "id": "61372f21",
   "metadata": {},
   "outputs": [
    {
     "data": {
      "text/plain": [
       "[0, 1, 1, 2, 3, 5, 8, 13, 21, 34]"
      ]
     },
     "execution_count": 9,
     "metadata": {},
     "output_type": "execute_result"
    }
   ],
   "source": [
    "def fib(n):\n",
    "    a=0\n",
    "    b=1\n",
    "    fib_ser = []\n",
    "    for i in range(n):\n",
    "        fib_ser.append(a)\n",
    "        a,b = b,a+b\n",
    "    return fib_ser\n",
    "fib(10)\n",
    "    \n",
    "    "
   ]
  },
  {
   "cell_type": "markdown",
   "id": "f5d4edda",
   "metadata": {},
   "source": [
    "#### 4.Write a Python Program to Check Armstrong Number?"
   ]
  },
  {
   "cell_type": "code",
   "execution_count": 5,
   "id": "3ba35fff",
   "metadata": {},
   "outputs": [
    {
     "name": "stdout",
     "output_type": "stream",
     "text": [
      "Enter the number :500\n",
      "Not Armstrong\n"
     ]
    }
   ],
   "source": [
    "num=int(input('Enter the number :'))\n",
    "power = len(str(num))\n",
    "sum = 0\n",
    "num1 = num\n",
    "while num1>0:\n",
    "    rem = num1 % 10\n",
    "    sum = sum + rem**power\n",
    "    num1 = num1//10\n",
    "if sum == num :\n",
    "    print('Armstrong')\n",
    "else:\n",
    "    print('Not Armstrong')"
   ]
  },
  {
   "cell_type": "markdown",
   "id": "e1ff5a83",
   "metadata": {},
   "source": [
    "#### 5.Write a Python Program to Find Armstrong Number in an Interval?"
   ]
  },
  {
   "cell_type": "code",
   "execution_count": 6,
   "id": "6fa40e5c",
   "metadata": {},
   "outputs": [
    {
     "name": "stdout",
     "output_type": "stream",
     "text": [
      "Enter lower input:100\n",
      "Enter upper input:500\n",
      "153\n",
      "370\n",
      "371\n",
      "407\n"
     ]
    }
   ],
   "source": [
    "r1 =int(input('Enter lower input:'))\n",
    "r2 =int(input('Enter upper input:'))\n",
    "\n",
    "for num in range(r1,r2+1):\n",
    "    power = len(str(num))\n",
    "    Sum = 0\n",
    "    num1 = num\n",
    "    while num1>0:\n",
    "        rem = num1 % 10\n",
    "        Sum = Sum + rem**power\n",
    "        num1 = num1//10\n",
    "    if Sum == num :\n",
    "        print(num)\n"
   ]
  },
  {
   "cell_type": "markdown",
   "id": "8973bda4",
   "metadata": {},
   "source": [
    "#### 6.Write a Python Program to Find the Sum of Natural Numbers?"
   ]
  },
  {
   "cell_type": "code",
   "execution_count": 7,
   "id": "3cdc9fc1",
   "metadata": {},
   "outputs": [
    {
     "name": "stdout",
     "output_type": "stream",
     "text": [
      "55\n"
     ]
    }
   ],
   "source": [
    "n= 10\n",
    "Sum =0\n",
    "for i in range(1,n+1):\n",
    "    Sum = Sum +i\n",
    "print(Sum)\n",
    "    "
   ]
  },
  {
   "cell_type": "code",
   "execution_count": 8,
   "id": "b052a22c",
   "metadata": {},
   "outputs": [
    {
     "data": {
      "text/plain": [
       "55"
      ]
     },
     "execution_count": 8,
     "metadata": {},
     "output_type": "execute_result"
    }
   ],
   "source": [
    "def sum_num(n):\n",
    "    Sum =0\n",
    "    for i in range(1,n+1):\n",
    "        Sum = Sum +i\n",
    "    return Sum\n",
    "sum_num(10)\n",
    "    "
   ]
  }
 ],
 "metadata": {
  "kernelspec": {
   "display_name": "Python 3 (ipykernel)",
   "language": "python",
   "name": "python3"
  },
  "language_info": {
   "codemirror_mode": {
    "name": "ipython",
    "version": 3
   },
   "file_extension": ".py",
   "mimetype": "text/x-python",
   "name": "python",
   "nbconvert_exporter": "python",
   "pygments_lexer": "ipython3",
   "version": "3.9.12"
  }
 },
 "nbformat": 4,
 "nbformat_minor": 5
}
