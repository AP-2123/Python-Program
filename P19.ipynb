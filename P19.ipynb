{
 "cells": [
  {
   "cell_type": "markdown",
   "id": "a4f6354f",
   "metadata": {},
   "source": [
    "#### Question1"
   ]
  },
  {
   "cell_type": "raw",
   "id": "fd47a85c",
   "metadata": {},
   "source": [
    "Create a function that takes a string and returns a string in which each character is repeated once.\n",
    "Examples\n",
    "double_char(\"String\") ➞ \"SSttrriinngg\"\n",
    "\n",
    "double_char(\"Hello World!\") ➞ \"HHeellllooWWoorrlldd!!\"\n",
    "\n",
    "double_char(\"1234!_ \") ➞ \"11223344!!__  \""
   ]
  },
  {
   "cell_type": "code",
   "execution_count": 1,
   "id": "1e57a8c5",
   "metadata": {},
   "outputs": [],
   "source": [
    "def double_char(string):\n",
    "        string = string.split(' ')\n",
    "        string = ''.join(string)\n",
    "        string1 = []\n",
    "        for char in string:\n",
    "            char = char + char\n",
    "            string1.append(char)\n",
    "        return (''.join(string1))"
   ]
  },
  {
   "cell_type": "code",
   "execution_count": 2,
   "id": "b64d19f9",
   "metadata": {},
   "outputs": [
    {
     "data": {
      "text/plain": [
       "'ssttrriinngg'"
      ]
     },
     "execution_count": 2,
     "metadata": {},
     "output_type": "execute_result"
    }
   ],
   "source": [
    "double_char('string')"
   ]
  },
  {
   "cell_type": "code",
   "execution_count": 3,
   "id": "04631ec4",
   "metadata": {},
   "outputs": [
    {
     "data": {
      "text/plain": [
       "'HHeellllooWWoorrlldd!!'"
      ]
     },
     "execution_count": 3,
     "metadata": {},
     "output_type": "execute_result"
    }
   ],
   "source": [
    "double_char(\"Hello World!\")"
   ]
  },
  {
   "cell_type": "code",
   "execution_count": 4,
   "id": "7db731de",
   "metadata": {},
   "outputs": [
    {
     "data": {
      "text/plain": [
       "'11223344!!__'"
      ]
     },
     "execution_count": 4,
     "metadata": {},
     "output_type": "execute_result"
    }
   ],
   "source": [
    "double_char(\"1234!_ \")"
   ]
  },
  {
   "cell_type": "markdown",
   "id": "329d558d",
   "metadata": {},
   "source": [
    "#### Question2"
   ]
  },
  {
   "cell_type": "raw",
   "id": "b781d6db",
   "metadata": {},
   "source": [
    "Create a function that reverses a boolean value and returns the string \"boolean expected\" if another variable type is given.\n",
    "Examples\n",
    "reverse(True) ➞ False\n",
    "\n",
    "reverse(False) ➞ True\n",
    "\n",
    "reverse(0) ➞ \"boolean expected\"\n",
    "\n",
    "reverse(None) ➞ \"boolean expected\""
   ]
  },
  {
   "cell_type": "code",
   "execution_count": 7,
   "id": "b0e1fc26",
   "metadata": {},
   "outputs": [],
   "source": [
    "def reverse(arg=None):\n",
    "    return not arg if type(arg) == bool else \"boolean expected\""
   ]
  },
  {
   "cell_type": "code",
   "execution_count": 8,
   "id": "8a5c4430",
   "metadata": {},
   "outputs": [
    {
     "data": {
      "text/plain": [
       "False"
      ]
     },
     "execution_count": 8,
     "metadata": {},
     "output_type": "execute_result"
    }
   ],
   "source": [
    "reverse(True)"
   ]
  },
  {
   "cell_type": "code",
   "execution_count": 9,
   "id": "155237cf",
   "metadata": {},
   "outputs": [
    {
     "data": {
      "text/plain": [
       "True"
      ]
     },
     "execution_count": 9,
     "metadata": {},
     "output_type": "execute_result"
    }
   ],
   "source": [
    "reverse(False)"
   ]
  },
  {
   "cell_type": "code",
   "execution_count": 10,
   "id": "f441f0ec",
   "metadata": {},
   "outputs": [
    {
     "data": {
      "text/plain": [
       "'boolean expected'"
      ]
     },
     "execution_count": 10,
     "metadata": {},
     "output_type": "execute_result"
    }
   ],
   "source": [
    "reverse(0)"
   ]
  },
  {
   "cell_type": "code",
   "execution_count": 11,
   "id": "b3bc4493",
   "metadata": {},
   "outputs": [
    {
     "data": {
      "text/plain": [
       "'boolean expected'"
      ]
     },
     "execution_count": 11,
     "metadata": {},
     "output_type": "execute_result"
    }
   ],
   "source": [
    "reverse(None)"
   ]
  },
  {
   "cell_type": "markdown",
   "id": "106f6c51",
   "metadata": {},
   "source": [
    "#### Question3"
   ]
  },
  {
   "cell_type": "raw",
   "id": "fc8d336a",
   "metadata": {},
   "source": [
    "Create a function that returns the thickness (in meters) of a piece of paper after folding it n number of times. The paper starts off with a thickness of 0.5mm.\n",
    "Examples\n",
    "num_layers(1) ➞ \"0.001m\"\n",
    "# Paper folded once is 1mm (equal to 0.001m)\n",
    "\n",
    "num_layers(4) ➞ \"0.008m\"\n",
    "# Paper folded 4 times is 8mm (equal to 0.008m)\n",
    "\n",
    "num_layers(21) ➞ \"1048.576m\"\n",
    "# Paper folded 21 times is 1048576mm (equal to 1048.576m)"
   ]
  },
  {
   "cell_type": "code",
   "execution_count": 12,
   "id": "5fb19bdd",
   "metadata": {},
   "outputs": [],
   "source": [
    "def num_layers(n):\n",
    "    thk = 0.5\n",
    "    for i in range(n):\n",
    "        thk = thk*2\n",
    "    return str(thk/1000)+'m'"
   ]
  },
  {
   "cell_type": "code",
   "execution_count": 13,
   "id": "a95009b6",
   "metadata": {},
   "outputs": [
    {
     "data": {
      "text/plain": [
       "'0.001m'"
      ]
     },
     "execution_count": 13,
     "metadata": {},
     "output_type": "execute_result"
    }
   ],
   "source": [
    "num_layers(1)"
   ]
  },
  {
   "cell_type": "code",
   "execution_count": 14,
   "id": "1c0a6aed",
   "metadata": {},
   "outputs": [
    {
     "data": {
      "text/plain": [
       "'0.008m'"
      ]
     },
     "execution_count": 14,
     "metadata": {},
     "output_type": "execute_result"
    }
   ],
   "source": [
    "num_layers(4)"
   ]
  },
  {
   "cell_type": "code",
   "execution_count": 15,
   "id": "b2862979",
   "metadata": {},
   "outputs": [
    {
     "data": {
      "text/plain": [
       "'1048.576m'"
      ]
     },
     "execution_count": 15,
     "metadata": {},
     "output_type": "execute_result"
    }
   ],
   "source": [
    "num_layers(21)"
   ]
  },
  {
   "cell_type": "markdown",
   "id": "493c69d5",
   "metadata": {},
   "source": [
    "#### Question4"
   ]
  },
  {
   "cell_type": "raw",
   "id": "ce2c6cf1",
   "metadata": {},
   "source": [
    "Create a function that takes a single string as argument and returns an ordered list containing the indices of all capital letters in the string.\n",
    "Examples\n",
    "index_of_caps(\"eDaBiT\") ➞ [1, 3, 5]\n",
    "\n",
    "index_of_caps(\"eQuINoX\") ➞ [1, 3, 4, 6]\n",
    "\n",
    "index_of_caps(\"determine\") ➞ []\n",
    "\n",
    "index_of_caps(\"STRIKE\") ➞ [0, 1, 2, 3, 4, 5]\n",
    "\n",
    "index_of_caps(\"sUn\") ➞ [1]"
   ]
  },
  {
   "cell_type": "code",
   "execution_count": 16,
   "id": "a8c1bea1",
   "metadata": {},
   "outputs": [],
   "source": [
    "def index_of_caps(string):\n",
    "    cap = []\n",
    "    for char in range(len(string)):\n",
    "        if string[char].isupper():\n",
    "            cap.append(char)\n",
    "    return cap"
   ]
  },
  {
   "cell_type": "code",
   "execution_count": 17,
   "id": "dc38932c",
   "metadata": {},
   "outputs": [
    {
     "data": {
      "text/plain": [
       "[1]"
      ]
     },
     "execution_count": 17,
     "metadata": {},
     "output_type": "execute_result"
    }
   ],
   "source": [
    "index_of_caps(\"sUn\")"
   ]
  },
  {
   "cell_type": "code",
   "execution_count": 18,
   "id": "57de2326",
   "metadata": {},
   "outputs": [
    {
     "data": {
      "text/plain": [
       "[1, 3, 4, 6]"
      ]
     },
     "execution_count": 18,
     "metadata": {},
     "output_type": "execute_result"
    }
   ],
   "source": [
    "index_of_caps(\"eQuINoX\")"
   ]
  },
  {
   "cell_type": "markdown",
   "id": "231db38a",
   "metadata": {},
   "source": [
    "#### Question5"
   ]
  },
  {
   "cell_type": "raw",
   "id": "ce2f5ee1",
   "metadata": {},
   "source": [
    "Using list comprehensions, create a function that finds all even numbers from 1 to the given number.\n",
    "Examples\n",
    "find_even_nums(8) ➞ [2, 4, 6, 8]\n",
    "\n",
    "find_even_nums(4) ➞ [2, 4]\n",
    "\n",
    "find_even_nums(2) ➞ [2]"
   ]
  },
  {
   "cell_type": "code",
   "execution_count": 20,
   "id": "d8ea222c",
   "metadata": {},
   "outputs": [],
   "source": [
    "def find_even_nums(num):\n",
    "    even_num_list = [num for num in range(1,num+1) if num %2 ==0]\n",
    "    return even_num_list"
   ]
  },
  {
   "cell_type": "code",
   "execution_count": 21,
   "id": "461f71ef",
   "metadata": {},
   "outputs": [
    {
     "data": {
      "text/plain": [
       "[2, 4, 6, 8]"
      ]
     },
     "execution_count": 21,
     "metadata": {},
     "output_type": "execute_result"
    }
   ],
   "source": [
    "find_even_nums(8)"
   ]
  },
  {
   "cell_type": "code",
   "execution_count": 22,
   "id": "13d97304",
   "metadata": {},
   "outputs": [
    {
     "data": {
      "text/plain": [
       "[2, 4]"
      ]
     },
     "execution_count": 22,
     "metadata": {},
     "output_type": "execute_result"
    }
   ],
   "source": [
    "find_even_nums(4)"
   ]
  },
  {
   "cell_type": "code",
   "execution_count": 23,
   "id": "1a8cee55",
   "metadata": {},
   "outputs": [
    {
     "data": {
      "text/plain": [
       "[2]"
      ]
     },
     "execution_count": 23,
     "metadata": {},
     "output_type": "execute_result"
    }
   ],
   "source": [
    "find_even_nums(2)"
   ]
  }
 ],
 "metadata": {
  "kernelspec": {
   "display_name": "Python 3 (ipykernel)",
   "language": "python",
   "name": "python3"
  },
  "language_info": {
   "codemirror_mode": {
    "name": "ipython",
    "version": 3
   },
   "file_extension": ".py",
   "mimetype": "text/x-python",
   "name": "python",
   "nbconvert_exporter": "python",
   "pygments_lexer": "ipython3",
   "version": "3.9.12"
  }
 },
 "nbformat": 4,
 "nbformat_minor": 5
}
