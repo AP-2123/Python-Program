{
 "cells": [
  {
   "cell_type": "markdown",
   "id": "fc483d12",
   "metadata": {},
   "source": [
    "#### 1.Write a Python program to find words which are greater than given length k?"
   ]
  },
  {
   "cell_type": "code",
   "execution_count": 1,
   "id": "6f03bbca",
   "metadata": {},
   "outputs": [],
   "source": [
    "from distutils.log import info\n",
    "import logging\n",
    "logging.basicConfig(filename=\"P11.log\",level =logging.ERROR,format='%(levelname)s,%(asctime)s,%(message)s')\n",
    "\n",
    "# function find string greater than length k\n",
    "def length_check(k,str):\n",
    "    logging.info(\"the length and words entered by user are %s and %s\",k,str)\n",
    "    try:\n",
    "        logging.info(\"we are into function\")\n",
    "        string = []\n",
    "        text = str.split(\" \")\n",
    "        for x in text:\n",
    "            if len(x) > k:\n",
    "                string.append(x)   \n",
    "        logging.info(\"done\")\n",
    "        logging.info(\"result of code is %s\",string)\n",
    "        return string\n",
    "    except Exception as e:\n",
    "        logging.exception(e)"
   ]
  },
  {
   "cell_type": "code",
   "execution_count": 2,
   "id": "62b901c6",
   "metadata": {},
   "outputs": [
    {
     "data": {
      "text/plain": [
       "['Python', 'program', 'string', 'greater', 'length']"
      ]
     },
     "execution_count": 2,
     "metadata": {},
     "output_type": "execute_result"
    }
   ],
   "source": [
    "length_check(5,'Python program to find all string which are greater than given length')"
   ]
  },
  {
   "cell_type": "code",
   "execution_count": 3,
   "id": "89f1483c",
   "metadata": {},
   "outputs": [
    {
     "name": "stdout",
     "output_type": "stream",
     "text": [
      "['Python', 'program', 'string', 'greater', 'length']\n"
     ]
    }
   ],
   "source": [
    "# list comprehension\n",
    "\n",
    "sentence = 'Python program to find all string which are greater than given length'\n",
    "\n",
    "length = 5\n",
    "\n",
    "print([word for word in sentence.split(\" \") if len(word) > length])"
   ]
  },
  {
   "cell_type": "code",
   "execution_count": 4,
   "id": "e75c7a28",
   "metadata": {},
   "outputs": [
    {
     "name": "stdout",
     "output_type": "stream",
     "text": [
      "['Python', 'program', 'string', 'greater', 'length']\n"
     ]
    }
   ],
   "source": [
    "# lambda function\n",
    "\n",
    "sentence = 'Python program to find all string which are greater than given length'\n",
    "\n",
    "length = 5\n",
    "\n",
    "l = list(filter(lambda word: (len(word)>length),sentence.split(\" \")))\n",
    "\n",
    "print(l)\n"
   ]
  },
  {
   "cell_type": "code",
   "execution_count": 5,
   "id": "0a4a1567",
   "metadata": {},
   "outputs": [
    {
     "name": "stdout",
     "output_type": "stream",
     "text": [
      "['Python', 'program', 'string', 'greater', 'length']\n"
     ]
    }
   ],
   "source": [
    "# Enumrate function\n",
    "\n",
    "sentence = 'Python program to find all string which are greater than given length'\n",
    "\n",
    "length = 5\n",
    "\n",
    "print([word for i,word in enumerate(sentence.split(\" \")) if len(word) > length])\n"
   ]
  },
  {
   "cell_type": "markdown",
   "id": "70faaee0",
   "metadata": {},
   "source": [
    "#### 2.Write a Python program for removing i-th character from a string?"
   ]
  },
  {
   "cell_type": "code",
   "execution_count": 6,
   "id": "f59678b5",
   "metadata": {},
   "outputs": [],
   "source": [
    "def remove(string, i):\n",
    "    a = string[ : i]\n",
    "    b = string[i + 1: ]\n",
    "    return a + b"
   ]
  },
  {
   "cell_type": "code",
   "execution_count": 7,
   "id": "e5e2cd57",
   "metadata": {},
   "outputs": [
    {
     "name": "stdout",
     "output_type": "stream",
     "text": [
      "helloworld\n"
     ]
    }
   ],
   "source": [
    "string = \"hello world\"\n",
    "i = 5\n",
    "print(remove(string, i))"
   ]
  },
  {
   "cell_type": "markdown",
   "id": "56097c42",
   "metadata": {},
   "source": [
    "#### 3.Write a Python program to split and join a string?"
   ]
  },
  {
   "cell_type": "code",
   "execution_count": 8,
   "id": "b2b9c948",
   "metadata": {},
   "outputs": [],
   "source": [
    "def split_string(str):\n",
    "    lst = str.split(' ')\n",
    "    return lst\n",
    "\n",
    "def join_string(lst):\n",
    "    return ' '.join(lst)"
   ]
  },
  {
   "cell_type": "code",
   "execution_count": 9,
   "id": "4e6950d2",
   "metadata": {},
   "outputs": [
    {
     "data": {
      "text/plain": [
       "['hello', 'world']"
      ]
     },
     "execution_count": 9,
     "metadata": {},
     "output_type": "execute_result"
    }
   ],
   "source": [
    "str = 'hello world'\n",
    "split_string(str)"
   ]
  },
  {
   "cell_type": "code",
   "execution_count": 10,
   "id": "ebf69084",
   "metadata": {},
   "outputs": [
    {
     "data": {
      "text/plain": [
       "'hello world'"
      ]
     },
     "execution_count": 10,
     "metadata": {},
     "output_type": "execute_result"
    }
   ],
   "source": [
    "join_string(split_string(str))"
   ]
  },
  {
   "cell_type": "markdown",
   "id": "87a0fe7e",
   "metadata": {},
   "source": [
    "#### 4.Write a Python to check if a given string is binary string or not?"
   ]
  },
  {
   "cell_type": "code",
   "execution_count": 12,
   "id": "574dcec3",
   "metadata": {},
   "outputs": [
    {
     "name": "stdout",
     "output_type": "stream",
     "text": [
      "No\n"
     ]
    }
   ],
   "source": [
    "string = \"hello\"\n",
    "if(string.count('0')+string.count('1')==len(string)):\n",
    "    print(\"Yes\")\n",
    "else:\n",
    "    print(\"No\")"
   ]
  },
  {
   "cell_type": "code",
   "execution_count": 13,
   "id": "86bd99de",
   "metadata": {},
   "outputs": [
    {
     "name": "stdout",
     "output_type": "stream",
     "text": [
      "Yes\n"
     ]
    }
   ],
   "source": [
    "import re\n",
    "string = \"1010\"\n",
    "c = re.compile('[^01]')\n",
    "\n",
    "if(len(c.findall(string))):\n",
    "    print(\"No\") # if length of list > 0 then it is not binary\n",
    "else:\n",
    "    print(\"Yes\") # if length of list = 0 then it is binary\n"
   ]
  },
  {
   "cell_type": "code",
   "execution_count": 14,
   "id": "0eb8d9f4",
   "metadata": {},
   "outputs": [
    {
     "name": "stdout",
     "output_type": "stream",
     "text": [
      "Yes\n"
     ]
    }
   ],
   "source": [
    "def check(string):\n",
    "    p = set(string)\n",
    "    s = {'0', '1'}\n",
    "    if s == p or p == {'0'} or p == {'1'}:\n",
    "        print(\"Yes\")\n",
    "    else:\n",
    "        print(\"No\")\n",
    "\n",
    "string = \"1010\"\n",
    "check(string)"
   ]
  },
  {
   "cell_type": "markdown",
   "id": "48c5e5b7",
   "metadata": {},
   "source": [
    "#### 5.Write a Python program to find uncommon words from two Strings?"
   ]
  },
  {
   "cell_type": "code",
   "execution_count": 15,
   "id": "26f33bca",
   "metadata": {},
   "outputs": [
    {
     "name": "stdout",
     "output_type": "stream",
     "text": [
      "The uncommon words in strings are: ['how']\n"
     ]
    }
   ],
   "source": [
    "def find(A, B):\n",
    "    count = {}\n",
    "    for word in A.split():\n",
    "        count[word] = count.get(word, 0) + 1\n",
    "    for word in B.split():\n",
    "        count[word] = count.get(word, 0) + 1\n",
    "        return [word for word in count if count[word] == 1]\n",
    "\n",
    "A = \"hi hello hi hello how \"\n",
    "B = \"hi hello hi hello\"\n",
    "print(\"The uncommon words in strings are:\",find(A, B))"
   ]
  },
  {
   "cell_type": "markdown",
   "id": "c8167487",
   "metadata": {},
   "source": [
    "#### 6.Write a Python to find all duplicate characters in string?"
   ]
  },
  {
   "cell_type": "code",
   "execution_count": 16,
   "id": "1e0010b7",
   "metadata": {},
   "outputs": [
    {
     "name": "stdout",
     "output_type": "stream",
     "text": [
      "l o\n"
     ]
    }
   ],
   "source": [
    "def find_dup_char(input):\n",
    "    x=[]\n",
    "    for i in input:\n",
    "        if i not in x and input.count(i)>1:\n",
    "            x.append(i)\n",
    "    print(\" \".join(x))\n",
    "\n",
    "\n",
    "input = 'helloo'\n",
    "find_dup_char(input)\n",
    "\n",
    "        "
   ]
  },
  {
   "cell_type": "markdown",
   "id": "791d569d",
   "metadata": {},
   "source": [
    "#### 7.Write a Python Program to check if a string contains any special character?"
   ]
  },
  {
   "cell_type": "code",
   "execution_count": 17,
   "id": "fe775645",
   "metadata": {},
   "outputs": [
    {
     "name": "stdout",
     "output_type": "stream",
     "text": [
      "Special char present\n"
     ]
    }
   ],
   "source": [
    "import re\n",
    "\n",
    "def check_sp_char(str):\n",
    "    regex = re.compile('[@_!#$%^&*()<>?/\\|}{~:]')\n",
    "    if(regex.search(str) == None):\n",
    "        print(\"Special char not present\")\n",
    "    else:\n",
    "        print(\"Special char present\")\n",
    "\n",
    "str = \"Hello,how are you?\"\n",
    "\n",
    "check_sp_char(str)\n"
   ]
  }
 ],
 "metadata": {
  "kernelspec": {
   "display_name": "Python 3 (ipykernel)",
   "language": "python",
   "name": "python3"
  },
  "language_info": {
   "codemirror_mode": {
    "name": "ipython",
    "version": 3
   },
   "file_extension": ".py",
   "mimetype": "text/x-python",
   "name": "python",
   "nbconvert_exporter": "python",
   "pygments_lexer": "ipython3",
   "version": "3.9.12"
  }
 },
 "nbformat": 4,
 "nbformat_minor": 5
}
