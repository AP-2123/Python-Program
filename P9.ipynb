{
 "cells": [
  {
   "cell_type": "markdown",
   "id": "8df9ce86",
   "metadata": {},
   "source": [
    "#### 1.Write a Python program to check if the given number is a Disarium Number?"
   ]
  },
  {
   "cell_type": "code",
   "execution_count": 1,
   "id": "3b5be428",
   "metadata": {},
   "outputs": [
    {
     "name": "stdout",
     "output_type": "stream",
     "text": [
      "Is 89 is Disarium number? True\n"
     ]
    }
   ],
   "source": [
    "def is_disarium(num):\n",
    "    temp = 0\n",
    "    for i in range(len(str(num))):\n",
    "        temp = temp + int(str(num)[i]) ** (i + 1)\n",
    "    return temp == num\n",
    "\n",
    "num = 89\n",
    "\n",
    "print(\"Is\",num,\"is Disarium number?\",is_disarium(num))"
   ]
  },
  {
   "cell_type": "markdown",
   "id": "510331f2",
   "metadata": {},
   "source": [
    "#### 2.Write a Python program to print all disarium numbers between 1 to 100?"
   ]
  },
  {
   "cell_type": "code",
   "execution_count": 2,
   "id": "0bd85cbe",
   "metadata": {},
   "outputs": [
    {
     "name": "stdout",
     "output_type": "stream",
     "text": [
      "Disarium numbers between 1 and 100: \n",
      "1 2 3 4 5 6 7 8 9 89 "
     ]
    }
   ],
   "source": [
    "def is_disarium(num):\n",
    "    temp = 0\n",
    "    for i in range(len(str(num))):\n",
    "        temp = temp + int(str(num)[i]) ** (i + 1)\n",
    "        if temp == num:\n",
    "            return temp\n",
    "print(\"Disarium numbers between 1 and 100: \")\n",
    "for i in range(1, 101): \n",
    "    if(is_disarium(i)):\n",
    "        print(i,end = ' ')"
   ]
  },
  {
   "cell_type": "markdown",
   "id": "7e82e5d1",
   "metadata": {},
   "source": [
    "#### 3.Write a Python program to check if the given number is Happy Number?"
   ]
  },
  {
   "cell_type": "code",
   "execution_count": 3,
   "id": "11cb6250",
   "metadata": {},
   "outputs": [],
   "source": [
    "def isHappyNumber(num):    \n",
    "    rem = sum = 0      \n",
    "    while(num > 0):    \n",
    "        rem = num%10    \n",
    "        sum = sum + (rem*rem)    \n",
    "        num = num//10    \n",
    "    return sum   \n",
    "\n",
    "def HappyNumber(num):\n",
    "    while(num != 1 and num != 4):    \n",
    "         num = isHappyNumber(num)       \n",
    "    if(num == 1):    \n",
    "        print(\"happy number\")        \n",
    "    elif(num == 4):    \n",
    "        print(\"not a happy number\") "
   ]
  },
  {
   "cell_type": "code",
   "execution_count": 4,
   "id": "1a229309",
   "metadata": {},
   "outputs": [
    {
     "name": "stdout",
     "output_type": "stream",
     "text": [
      "happy number\n"
     ]
    }
   ],
   "source": [
    "HappyNumber(1)"
   ]
  },
  {
   "cell_type": "markdown",
   "id": "27b26fb0",
   "metadata": {},
   "source": [
    "#### 4.Write a Python program to print all happy numbers between 1 and 100?"
   ]
  },
  {
   "cell_type": "code",
   "execution_count": 5,
   "id": "f5ac661e",
   "metadata": {},
   "outputs": [],
   "source": [
    "def isHappyNumber(num):    \n",
    "    rem = sum = 0      \n",
    "    while(num > 0):    \n",
    "        rem = num%10    \n",
    "        sum = sum + (rem*rem)    \n",
    "        num = num//10    \n",
    "    return sum;   \n",
    "\n",
    "def HappyNumber(res):\n",
    "    while(res != 1 and res != 4):    \n",
    "         res = isHappyNumber(res)       \n",
    "    if(res == 1):    \n",
    "        return True       \n",
    "    elif(res == 4):    \n",
    "        return False\n",
    "\n",
    "   "
   ]
  },
  {
   "cell_type": "code",
   "execution_count": 6,
   "id": "68f676f8",
   "metadata": {},
   "outputs": [
    {
     "name": "stdout",
     "output_type": "stream",
     "text": [
      "Happy numbers between 1 and 100: \n",
      "1 7 10 13 19 23 28 31 32 44 49 68 70 79 82 86 91 94 97 100 "
     ]
    }
   ],
   "source": [
    "print(\"Happy numbers between 1 and 100: \")\n",
    "for i in range(1, 101): \n",
    "    if(HappyNumber(i)):\n",
    "        print(i,end = ' ')"
   ]
  },
  {
   "cell_type": "markdown",
   "id": "df33c90a",
   "metadata": {},
   "source": [
    "#### 5.Write a Python program to determine whether the given number is a Harshad Number?"
   ]
  },
  {
   "cell_type": "code",
   "execution_count": 7,
   "id": "cc8594f9",
   "metadata": {},
   "outputs": [],
   "source": [
    "def har_num(num):\n",
    "    sum = 0\n",
    "    for i in range(len(str(num))):\n",
    "        sum = sum + int(str(num)[i])\n",
    "    if num % sum == 0:\n",
    "        print(num,\"is Harshad Number\")\n",
    "    else:\n",
    "        print(num,\"is not Harshad Number\")"
   ]
  },
  {
   "cell_type": "code",
   "execution_count": 8,
   "id": "064f7b97",
   "metadata": {},
   "outputs": [
    {
     "name": "stdout",
     "output_type": "stream",
     "text": [
      "25 is not Harshad Number\n"
     ]
    }
   ],
   "source": [
    "har_num(25)"
   ]
  },
  {
   "cell_type": "code",
   "execution_count": 9,
   "id": "9073d821",
   "metadata": {},
   "outputs": [],
   "source": [
    "def har_num(num):\n",
    "    sum = 0\n",
    "    for i in range(len(str(num))):\n",
    "        sum = sum + int(str(num)[i])\n",
    "    if num % sum == 0:\n",
    "        return num"
   ]
  },
  {
   "cell_type": "code",
   "execution_count": 10,
   "id": "0f307d88",
   "metadata": {},
   "outputs": [
    {
     "data": {
      "text/plain": [
       "12"
      ]
     },
     "execution_count": 10,
     "metadata": {},
     "output_type": "execute_result"
    }
   ],
   "source": [
    "har_num(12)"
   ]
  },
  {
   "cell_type": "code",
   "execution_count": 11,
   "id": "707023ae",
   "metadata": {},
   "outputs": [
    {
     "name": "stdout",
     "output_type": "stream",
     "text": [
      "Harshad numbers between 1 and 100: \n",
      "1 2 3 4 5 6 7 8 9 10 12 18 20 21 24 27 30 36 40 42 45 48 50 54 60 63 70 72 80 81 84 90 100 "
     ]
    }
   ],
   "source": [
    "print(\"Harshad numbers between 1 and 100: \")\n",
    "for i in range(1, 101): \n",
    "    if i == har_num(i):\n",
    "        print(i,end = ' ')"
   ]
  },
  {
   "cell_type": "markdown",
   "id": "11b6e6c2",
   "metadata": {},
   "source": [
    "#### 6.Write a Python program to print all pronic numbers between 1 and 100?"
   ]
  },
  {
   "cell_type": "code",
   "execution_count": 12,
   "id": "00eed32d",
   "metadata": {},
   "outputs": [
    {
     "name": "stdout",
     "output_type": "stream",
     "text": [
      "Pronic numbers between 1 and 100: \n",
      "2 6 12 20 30 42 56 72 90 "
     ]
    }
   ],
   "source": [
    "def isPronicNumber(num):       \n",
    "    for i in range(1, num+1):       \n",
    "        if((i*(i+1)) == num):      \n",
    "            return num\n",
    "\n",
    "print(\"Pronic numbers between 1 and 100: \") \n",
    "for i in range(1, 101):    \n",
    "    if(isPronicNumber(i)):    \n",
    "        print(i, end = ' ')"
   ]
  },
  {
   "cell_type": "code",
   "execution_count": null,
   "id": "0940e148",
   "metadata": {},
   "outputs": [],
   "source": []
  }
 ],
 "metadata": {
  "kernelspec": {
   "display_name": "Python 3 (ipykernel)",
   "language": "python",
   "name": "python3"
  },
  "language_info": {
   "codemirror_mode": {
    "name": "ipython",
    "version": 3
   },
   "file_extension": ".py",
   "mimetype": "text/x-python",
   "name": "python",
   "nbconvert_exporter": "python",
   "pygments_lexer": "ipython3",
   "version": "3.9.12"
  }
 },
 "nbformat": 4,
 "nbformat_minor": 5
}
