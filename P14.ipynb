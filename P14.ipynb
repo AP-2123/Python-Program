{
 "cells": [
  {
   "cell_type": "markdown",
   "id": "d223627e",
   "metadata": {},
   "source": [
    "#### 1.Define a class with a generator which can iterate the numbers, which are divisible by 7, between a given range 0 and n.\n"
   ]
  },
  {
   "cell_type": "code",
   "execution_count": 1,
   "id": "5a937958",
   "metadata": {},
   "outputs": [
    {
     "name": "stdout",
     "output_type": "stream",
     "text": [
      "[7, 14, 21, 28, 35, 42, 49, 56, 63, 70, 77, 84, 91, 98]\n"
     ]
    }
   ],
   "source": [
    "class generator:\n",
    "    def div(self,n):\n",
    "        for i in range(1,n+1):\n",
    "            if i % 7 == 0:\n",
    "                yield i\n",
    "\n",
    "g = generator() \n",
    "\n",
    "print(list(g.div(100)))"
   ]
  },
  {
   "cell_type": "markdown",
   "id": "a87260f8",
   "metadata": {},
   "source": [
    "#### 2.Write a program to compute the frequency of the words from the input. The output should output after sorting the key alphanumerically. "
   ]
  },
  {
   "cell_type": "markdown",
   "id": "8ca8b172",
   "metadata": {},
   "source": [
    "Suppose the following input is supplied to the program:\n",
    "\n",
    "New to Python or choosing between Python 2 and Python 3? Read Python 2 or Python 3.\n",
    "Then, the output should be:\n",
    "2:2\n",
    "3.:1\n",
    "3?:1\n",
    "\n",
    "New:1\n",
    "Python:5\n",
    "Read:1\n",
    "and:1\n",
    "between:1\n",
    "choosing:1\n",
    "or:2\n",
    "to:1\n"
   ]
  },
  {
   "cell_type": "code",
   "execution_count": 2,
   "id": "d1ca160f",
   "metadata": {},
   "outputs": [
    {
     "name": "stdout",
     "output_type": "stream",
     "text": [
      "Type in: New to Python or choosing between Python 2 and Python 3? Read Python 2 or Python 3.\n",
      "2 : 2\n",
      "3. : 1\n",
      "3? : 1\n",
      "New : 1\n",
      "Python : 5\n",
      "Read : 1\n",
      "and : 1\n",
      "between : 1\n",
      "choosing : 1\n",
      "or : 2\n",
      "to : 1\n",
      "New : 1\n"
     ]
    }
   ],
   "source": [
    "import re\n",
    "import operator\n",
    "\n",
    "text_line = input(\"Type in: \")\n",
    "\n",
    "freq_dict = {}\n",
    "freq_dict1 = {}\n",
    "\n",
    "for i in text_line.split(' '):\n",
    "    x = re.findall(\"[0-9][?.]\", text_line)\n",
    "    if i not in freq_dict:\n",
    "        freq_dict[i] = 1\n",
    "    elif i in freq_dict:\n",
    "        freq_dict[i] = freq_dict[i] + 1\n",
    "\n",
    "sorted_freq_dict = sorted(freq_dict.items(), key = operator.itemgetter(0))\n",
    "\n",
    "for i in sorted_freq_dict:\n",
    "    print(i[0],':',i[1])\n",
    "    \n",
    "    \n",
    "for i in text_line.split(' '):\n",
    "    if i.isalpha():\n",
    "        if i not in freq_dict1:\n",
    "            freq_dict1[i] = 1\n",
    "        elif i in freq_dict1:\n",
    "            freq_dict1[i] = freq_dict1[i] + 1\n",
    "\n",
    "\n",
    "sorted_freq_dict1 = sorted(freq_dict1.items(), key = operator.itemgetter(0))\n",
    "\n",
    "for i in sorted_freq_dict1:\n",
    "    print(i[0],':', i[1])\n",
    "    break"
   ]
  },
  {
   "cell_type": "markdown",
   "id": "3df1c1aa",
   "metadata": {},
   "source": [
    "#### 3.Define a class Person and its two child classes: Male and Female. All classes have a method \"getGender\" which can print \"Male\" for Male class and \"Female\" for Female class."
   ]
  },
  {
   "cell_type": "code",
   "execution_count": 3,
   "id": "c3e78a4f",
   "metadata": {},
   "outputs": [
    {
     "name": "stdout",
     "output_type": "stream",
     "text": [
      "Male\n",
      "Female\n"
     ]
    }
   ],
   "source": [
    "class Person(object):\n",
    "    def getGender(self):\n",
    "        return \n",
    "\n",
    "class Male(Person):\n",
    "    def getGender( self ):\n",
    "        return \"Male\"\n",
    "\n",
    "class Female(Person):\n",
    "    def getGender(self ):\n",
    "        return \"Female\"\n",
    "\n",
    "male = Male()\n",
    "female= Female()\n",
    "print(male.getGender())\n",
    "print(female.getGender())"
   ]
  },
  {
   "cell_type": "markdown",
   "id": "16d02a11",
   "metadata": {},
   "source": [
    "#### 4.Please write a program to generate all sentences where subject is in [\"I\", \"You\"] and verb is in [\"Play\", \"Love\"] and the object is in [\"Hockey\",\"Football\"]."
   ]
  },
  {
   "cell_type": "code",
   "execution_count": 4,
   "id": "0536d3c9",
   "metadata": {},
   "outputs": [
    {
     "name": "stdout",
     "output_type": "stream",
     "text": [
      "I Play Hockey\n",
      "I Play Football\n",
      "I Love Hockey\n",
      "I Love Football\n",
      "You Play Hockey\n",
      "You Play Football\n",
      "You Love Hockey\n",
      "You Love Football\n"
     ]
    }
   ],
   "source": [
    "subjects=[\"I\", \"You\"]\n",
    "verbs=[\"Play\", \"Love\"]\n",
    "objects=[\"Hockey\",\"Football\"]\n",
    "\n",
    "for sub in subjects:\n",
    "    for verb in verbs:\n",
    "        for obj in objects:\n",
    "            print(\"{} {} {}\".format(sub,verb,obj))\n"
   ]
  },
  {
   "cell_type": "markdown",
   "id": "a1d265d6",
   "metadata": {},
   "source": [
    "#### 5.Please write a program to compress and decompress the string \"hello world!helloworld!helloworld!hello world!\"."
   ]
  },
  {
   "cell_type": "code",
   "execution_count": 6,
   "id": "2c155696",
   "metadata": {},
   "outputs": [
    {
     "name": "stdout",
     "output_type": "stream",
     "text": [
      "b'x\\x9c\\xcbH\\xcd\\xc9\\xc9W(\\xcf/\\xcaIQ\\xcc \\x82\\r\\x00\\xbd[\\x11\\xf5'\n",
      "b'hello world!hello world!hello world!hello world!'\n"
     ]
    }
   ],
   "source": [
    "import zlib\n",
    "\n",
    "s = 'hello world!hello world!hello world!hello world!'\n",
    "\n",
    "# In Python 3 zlib.compress() accepts only DataType <bytes>\n",
    "\n",
    "y = bytes(s, 'utf-8')\n",
    "x = zlib.compress(y)\n",
    "\n",
    "print(x)\n",
    "print(zlib.decompress(x))"
   ]
  },
  {
   "cell_type": "markdown",
   "id": "ec615dad",
   "metadata": {},
   "source": [
    "#### 6.Please write a binary search function which searches an item in a sorted list. The function should return the index \n"
   ]
  },
  {
   "cell_type": "code",
   "execution_count": 7,
   "id": "4df7089a",
   "metadata": {},
   "outputs": [
    {
     "name": "stdout",
     "output_type": "stream",
     "text": [
      "3\n"
     ]
    }
   ],
   "source": [
    "def binary_search(lst, item):\n",
    "    low = 0\n",
    "    high = len(lst) - 1\n",
    "    \n",
    "    while low <= high:\n",
    "        mid = round((low + high) / 2)\n",
    "        \n",
    "        if lst[mid] == item:\n",
    "            return mid\n",
    "        elif lst[mid] > item:\n",
    "            high = mid - 1\n",
    "        else:\n",
    "            low = mid + 1\n",
    "    return None\n",
    "    \n",
    "lst = [1,3,5,7,]\n",
    "print(binary_search(lst, 7))   "
   ]
  },
  {
   "cell_type": "code",
   "execution_count": null,
   "id": "0de382ba",
   "metadata": {},
   "outputs": [],
   "source": []
  }
 ],
 "metadata": {
  "kernelspec": {
   "display_name": "Python 3 (ipykernel)",
   "language": "python",
   "name": "python3"
  },
  "language_info": {
   "codemirror_mode": {
    "name": "ipython",
    "version": 3
   },
   "file_extension": ".py",
   "mimetype": "text/x-python",
   "name": "python",
   "nbconvert_exporter": "python",
   "pygments_lexer": "ipython3",
   "version": "3.9.12"
  }
 },
 "nbformat": 4,
 "nbformat_minor": 5
}
