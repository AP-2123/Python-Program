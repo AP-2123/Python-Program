{
 "cells": [
  {
   "cell_type": "markdown",
   "id": "b51e46d9",
   "metadata": {},
   "source": [
    "#### 1.Write a program that calculates and prints the value according to the given formula:"
   ]
  },
  {
   "cell_type": "raw",
   "id": "33f8c3b3",
   "metadata": {},
   "source": [
    "Q = Square root of [(2 * C * D)/H]\n",
    "Following are the fixed values of C and H:\n",
    "C is 50. H is 30.\n",
    "D is the variable whose values should be input to your program in a comma-separated sequence.\n",
    "\n",
    "Example\n",
    "Let us assume the following comma separated input sequence is given to the program:\n",
    "100,150,180\n",
    "The output of the program should be:\n",
    "18,22,24"
   ]
  },
  {
   "cell_type": "code",
   "execution_count": 1,
   "id": "4dbcfbf0",
   "metadata": {},
   "outputs": [
    {
     "name": "stdout",
     "output_type": "stream",
     "text": [
      "18,22,24\n",
      "8,9,9\n"
     ]
    }
   ],
   "source": [
    "import math\n",
    "C = 50\n",
    "H = 30\n",
    "D = [x for x in input().split(',')]\n",
    "op_val = []\n",
    "for i in D:\n",
    "    \n",
    "    op_val.append(str(int(round(math.sqrt(2*C*float(i)/H)))))\n",
    "    \n",
    "print(','.join(op_val))"
   ]
  },
  {
   "cell_type": "markdown",
   "id": "51f79c34",
   "metadata": {},
   "source": [
    "#### 2.Write a program which takes 2 digits, X,Y as input and generates a 2-dimensional array. The element value in the i-th row and j-th column of the array should be i*j."
   ]
  },
  {
   "cell_type": "raw",
   "id": "adb9b358",
   "metadata": {},
   "source": [
    "Note: i=0,1.., X-1; j=0,1..., Y-1.\n",
    "Example\n",
    "Suppose the following inputs are given to the program:\n",
    "3,5\n",
    "Then, the output of the program should be:\n",
    "[[0, 0, 0, 0, 0], [0, 1, 2, 3, 4], [0, 2, 4, 6, 8]] "
   ]
  },
  {
   "cell_type": "code",
   "execution_count": 2,
   "id": "b8e49d34",
   "metadata": {},
   "outputs": [
    {
     "name": "stdout",
     "output_type": "stream",
     "text": [
      "Input number of rows: 3\n",
      "Input number of columns: 5\n",
      "[[0, 0, 0, 0, 0], [0, 1, 2, 3, 4], [0, 2, 4, 6, 8]]\n"
     ]
    }
   ],
   "source": [
    "row_num = int(input(\"Input number of rows: \"))\n",
    "col_num = int(input(\"Input number of columns: \"))\n",
    "multi_list = [[0 for col in range(col_num)] for row in range(row_num)]\n",
    "\n",
    "for row in range(row_num):\n",
    "    for col in range(col_num):\n",
    "        multi_list[row][col]= row*col\n",
    "\n",
    "print(multi_list)"
   ]
  },
  {
   "cell_type": "markdown",
   "id": "fc8cc4f3",
   "metadata": {},
   "source": [
    "#### 3.Write a program that accepts a comma separated sequence of words as input and prints the words in a comma-separated sequence after sorting them alphabetically."
   ]
  },
  {
   "cell_type": "raw",
   "id": "8604b18d",
   "metadata": {},
   "source": [
    "Suppose the following input is supplied to the program:\n",
    "without,hello,bag,world\n",
    "Then, the output should be:\n",
    "bag,hello,without,world"
   ]
  },
  {
   "cell_type": "code",
   "execution_count": 3,
   "id": "9ce0e99b",
   "metadata": {},
   "outputs": [
    {
     "name": "stdout",
     "output_type": "stream",
     "text": [
      "without,hello,bag,world\n",
      "bag,hello,without,world\n"
     ]
    }
   ],
   "source": [
    "inp_words = [word for word in input().split(',')]\n",
    "inp_words.sort()\n",
    "op_words = ','.join(inp_words)\n",
    "print(op_words)"
   ]
  },
  {
   "cell_type": "markdown",
   "id": "ed839b55",
   "metadata": {},
   "source": [
    "#### 4.Write a program that accepts a sequence of whitespace separated words as input and prints the words after removing all duplicate words and sorting them alphanumerically."
   ]
  },
  {
   "cell_type": "raw",
   "id": "1520a9ef",
   "metadata": {},
   "source": [
    "Suppose the following input is supplied to the program:\n",
    "hello world and practice makes perfect and hello world again\n",
    "Then, the output should be:\n",
    "again and hello makes perfect practice world"
   ]
  },
  {
   "cell_type": "code",
   "execution_count": 4,
   "id": "a806986d",
   "metadata": {},
   "outputs": [
    {
     "name": "stdout",
     "output_type": "stream",
     "text": [
      "hello world and practice makes perfect and hello world again\n",
      "again and hello makes perfect practice world\n"
     ]
    }
   ],
   "source": [
    "inp_words = [word for word in input().split(' ')]\n",
    "op_words = []\n",
    "for i in inp_words:\n",
    "    if i not in op_words:\n",
    "        op_words.append(i)\n",
    "    else:\n",
    "        continue\n",
    "op_words.sort()\n",
    "print(' '.join(op_words))       "
   ]
  },
  {
   "cell_type": "markdown",
   "id": "39ee3d4c",
   "metadata": {},
   "source": [
    "#### 5. Write a program that accepts a sentence and calculate the number of letters and digits."
   ]
  },
  {
   "cell_type": "raw",
   "id": "45968981",
   "metadata": {},
   "source": [
    "Suppose the following input is supplied to the program:\n",
    "hello world! 123\n",
    "Then, the output should be:\n",
    "LETTERS 10\n",
    "DIGITS 3"
   ]
  },
  {
   "cell_type": "code",
   "execution_count": 5,
   "id": "48feabd7",
   "metadata": {},
   "outputs": [
    {
     "name": "stdout",
     "output_type": "stream",
     "text": [
      "Input a stringhello world! 123\n",
      "Letters 10\n",
      "Digits 3\n"
     ]
    }
   ],
   "source": [
    "sentence = input(\"Input a string\")\n",
    "letter = l = 0 \n",
    "digits = d = 0\n",
    "for i in sentence:\n",
    "    if i.isdigit():\n",
    "        d=d+1\n",
    "    elif i.isalpha():\n",
    "        l=l+1\n",
    "    else:\n",
    "        pass\n",
    "print(\"Letters\", l)\n",
    "print(\"Digits\", d)\n"
   ]
  },
  {
   "cell_type": "code",
   "execution_count": 6,
   "id": "67d8ee5b",
   "metadata": {},
   "outputs": [],
   "source": [
    "def alpha_num_count(s):\n",
    "    l=d=0\n",
    "    for i in s:\n",
    "        if i.isdigit():\n",
    "            d=d+1\n",
    "        elif i.isalpha():\n",
    "            l=l+1\n",
    "        else:\n",
    "            pass\n",
    "    print(\"Letters\", l)\n",
    "    print(\"Digits\", d)"
   ]
  },
  {
   "cell_type": "code",
   "execution_count": 7,
   "id": "a1d20094",
   "metadata": {},
   "outputs": [
    {
     "name": "stdout",
     "output_type": "stream",
     "text": [
      "Letters 10\n",
      "Digits 3\n"
     ]
    }
   ],
   "source": [
    "alpha_num_count('hello world! 123')"
   ]
  },
  {
   "cell_type": "markdown",
   "id": "f5daff4c",
   "metadata": {},
   "source": [
    "#### 6.A website requires the users to input username and password to register. Write a program to check the validity of password input by users."
   ]
  },
  {
   "cell_type": "raw",
   "id": "50124f52",
   "metadata": {},
   "source": [
    "Following are the criteria for checking the password:\n",
    "1. At least 1 letter between [a-z]\n",
    "2. At least 1 number between [0-9]\n",
    "1. At least 1 letter between [A-Z]\n",
    "3. At least 1 character from [$#@]\n",
    "4. Minimum length of transaction password: 6\n",
    "5. Maximum length of transaction password: 12\n",
    "\n",
    "Your program should accept a sequence of comma separated passwords and will check them according to the above criteria. Passwords that match the criteria are to be printed, each separated by a comma.\n",
    "\n",
    "Example\n",
    "\n",
    "If the following passwords are given as input to the program:\n",
    "ABd1234@1,a F1#,2w3E*,2We3345\n",
    "Then, the output of the program should be:\n",
    "ABd1234@1"
   ]
  },
  {
   "cell_type": "code",
   "execution_count": 8,
   "id": "f3d2797f",
   "metadata": {},
   "outputs": [],
   "source": [
    "def pass_check(p):\n",
    "    import re\n",
    "    x = True\n",
    "    while x:  \n",
    "        if (len(p)<6 or len(p)>12):\n",
    "            break\n",
    "        elif not re.search(\"[a-z]\",p):\n",
    "            break\n",
    "        elif not re.search(\"[0-9]\",p):\n",
    "            break\n",
    "        elif not re.search(\"[A-Z]\",p):\n",
    "            break\n",
    "        elif not re.search(\"[$#@]\",p):\n",
    "            break\n",
    "        elif re.search(\"\\s\",p):\n",
    "            break\n",
    "        else:\n",
    "            return p\n",
    "            x=False\n",
    "            break"
   ]
  },
  {
   "cell_type": "code",
   "execution_count": 9,
   "id": "56091b8e",
   "metadata": {},
   "outputs": [
    {
     "name": "stdout",
     "output_type": "stream",
     "text": [
      "ABd1234@1,a F1#,2w3E*,2We3345\n",
      "ABd1234@1\n"
     ]
    }
   ],
   "source": [
    "inp_pass = [password for password in input().split(',')]\n",
    "op_pass = []\n",
    "for i in inp_pass:\n",
    "    if i in pass_check(i):\n",
    "        op_pass.append(i)\n",
    "        break\n",
    "    else:\n",
    "        continue\n",
    "print(','.join(op_pass))"
   ]
  }
 ],
 "metadata": {
  "kernelspec": {
   "display_name": "Python 3 (ipykernel)",
   "language": "python",
   "name": "python3"
  },
  "language_info": {
   "codemirror_mode": {
    "name": "ipython",
    "version": 3
   },
   "file_extension": ".py",
   "mimetype": "text/x-python",
   "name": "python",
   "nbconvert_exporter": "python",
   "pygments_lexer": "ipython3",
   "version": "3.9.12"
  }
 },
 "nbformat": 4,
 "nbformat_minor": 5
}
