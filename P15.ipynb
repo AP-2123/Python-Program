{
 "cells": [
  {
   "cell_type": "markdown",
   "id": "4112fe5e",
   "metadata": {},
   "source": [
    "#### 1.Please write a program using generator to print the numbers which can be divisible by 5 and 7 between 0 and n in comma separated form while n is input by console."
   ]
  },
  {
   "cell_type": "raw",
   "id": "d69b3cdc",
   "metadata": {},
   "source": [
    "Example:\n",
    "If the following n is given as input to the program:\n",
    "100\n",
    "Then, the output of the program should be:\n",
    "0,35,70"
   ]
  },
  {
   "cell_type": "code",
   "execution_count": 1,
   "id": "d2d67104",
   "metadata": {},
   "outputs": [
    {
     "name": "stdout",
     "output_type": "stream",
     "text": [
      "Enter the no : 100\n",
      "0,35,70\n"
     ]
    }
   ],
   "source": [
    "def numGenerator(n):\n",
    "    for i in range(n+1):\n",
    "        if i%5==0 and i%7==0:\n",
    "            yield i\n",
    "\n",
    "n=int(input('Enter the no : '))\n",
    "values = []\n",
    "for i in numGenerator(n):\n",
    "    values.append(str(i))\n",
    "\n",
    "print (\",\".join(values))"
   ]
  },
  {
   "cell_type": "markdown",
   "id": "8e185c70",
   "metadata": {},
   "source": [
    "#### 2.Please write a program using generator to print the even numbers between 0 and n in comma separated form while n is input by console."
   ]
  },
  {
   "cell_type": "raw",
   "id": "bdfc502f",
   "metadata": {},
   "source": [
    "Example:\n",
    "If the following n is given as input to the program:\n",
    "10\n",
    "Then, the output of the program should be:\n",
    "0,2,4,6,8,10"
   ]
  },
  {
   "cell_type": "code",
   "execution_count": 2,
   "id": "501a8457",
   "metadata": {},
   "outputs": [
    {
     "name": "stdout",
     "output_type": "stream",
     "text": [
      "Enter the no : 10\n",
      "0,2,4,6,8,10\n"
     ]
    }
   ],
   "source": [
    "def evenGenerator(n):\n",
    "    for i in range(n+1):\n",
    "        if i%2==0:\n",
    "            yield i\n",
    "\n",
    "n=int(input('Enter the no : '))\n",
    "values = []\n",
    "for i in evenGenerator(n):\n",
    "    values.append(str(i))\n",
    "\n",
    "print (\",\".join(values))"
   ]
  },
  {
   "cell_type": "markdown",
   "id": "515d66d0",
   "metadata": {},
   "source": [
    "#### 3.The Fibonacci Sequence is computed based on the following formula:"
   ]
  },
  {
   "cell_type": "raw",
   "id": "8e9e718f",
   "metadata": {},
   "source": [
    "f(n)=0 if n=0\n",
    "f(n)=1 if n=1\n",
    "f(n)=f(n-1)+f(n-2) if n>1\n",
    "Please write a program using list comprehension to print the Fibonacci Sequence in comma separated form with a given n input by console.\n",
    "Example:\n",
    "If the following n is given as input to the program:\n",
    "7\n",
    "\n",
    "Then, the output of the program should be:\n",
    "0,1,1,2,3,5,8,13"
   ]
  },
  {
   "cell_type": "code",
   "execution_count": 3,
   "id": "f20c0cda",
   "metadata": {},
   "outputs": [
    {
     "name": "stdout",
     "output_type": "stream",
     "text": [
      "Enter the number : 7\n",
      "0,1,1,2,3,5,8,13\n"
     ]
    }
   ],
   "source": [
    "def fibonacci(n):\n",
    "    if n == 0: \n",
    "        return 0\n",
    "    elif n == 1:\n",
    "        return 1\n",
    "    else: \n",
    "        return fibonacci(n-1)+fibonacci(n-2)\n",
    "\n",
    "n=int(input(\"Enter the number : \"))\n",
    "values = [str(fibonacci(x)) for x in range(0, n+1)]\n",
    "print (\",\".join(values))\n"
   ]
  },
  {
   "cell_type": "markdown",
   "id": "239d957c",
   "metadata": {},
   "source": [
    "#### 4.Assuming that we have some email addresses in the \"username@companyname.com\" format, please write program to print the user name of a given email address. Both user names and company names are composed of letters only."
   ]
  },
  {
   "cell_type": "raw",
   "id": "56e72d4c",
   "metadata": {},
   "source": [
    "Example:\n",
    "If the following email address is given as input to the program:\n",
    "john@google.com\n",
    "Then, the output of the program should be:\n",
    "john"
   ]
  },
  {
   "cell_type": "code",
   "execution_count": 4,
   "id": "61d4bd1d",
   "metadata": {},
   "outputs": [
    {
     "name": "stdout",
     "output_type": "stream",
     "text": [
      "Enter the mail id:john@google.com\n",
      "john\n",
      "google\n"
     ]
    }
   ],
   "source": [
    "email = input('Enter the mail id:')\n",
    "u_name = email.split('@')\n",
    "c_name = u_name[1].split('.')[0]\n",
    "print(u_name[0])\n",
    "print(c_name)"
   ]
  },
  {
   "cell_type": "code",
   "execution_count": 5,
   "id": "20e4e795",
   "metadata": {},
   "outputs": [
    {
     "name": "stdout",
     "output_type": "stream",
     "text": [
      "Enter the mail id:john@google.com\n",
      "john\n",
      "google\n"
     ]
    }
   ],
   "source": [
    "import re\n",
    "email = input('Enter the mail id:')\n",
    "\n",
    "pattern1 = r'^([^@]+)@[^@]+$'\n",
    "u_name = re.findall(pattern1,email)\n",
    "\n",
    "pattern2 = '\\w+@(\\w+).com'\n",
    "c_name = re.findall(pattern2,email)\n",
    "\n",
    "print(u_name[0])\n",
    "print(c_name[0])"
   ]
  },
  {
   "cell_type": "markdown",
   "id": "0e455740",
   "metadata": {},
   "source": [
    "#### 5.Define a class named Shape and its subclass Square. The Square class has an init function which takes a length as argument. Both classes have a area function which can print the area of the shape where Shape's area is 0 by default."
   ]
  },
  {
   "cell_type": "code",
   "execution_count": 6,
   "id": "8df64124",
   "metadata": {},
   "outputs": [
    {
     "name": "stdout",
     "output_type": "stream",
     "text": [
      "9\n"
     ]
    }
   ],
   "source": [
    "class Shape():\n",
    "    def __init__(self):\n",
    "        pass\n",
    "    \n",
    "    def area(self):\n",
    "        return 0\n",
    "\n",
    "class Square(Shape):\n",
    "    def __init__(self,length):\n",
    "        self.length = length\n",
    "        \n",
    "    def area(self):\n",
    "        return self.length*self.length\n",
    "\n",
    "square= Square(3)\n",
    "print(square.area())"
   ]
  },
  {
   "cell_type": "code",
   "execution_count": null,
   "id": "f9f4bfaa",
   "metadata": {},
   "outputs": [],
   "source": []
  }
 ],
 "metadata": {
  "kernelspec": {
   "display_name": "Python 3 (ipykernel)",
   "language": "python",
   "name": "python3"
  },
  "language_info": {
   "codemirror_mode": {
    "name": "ipython",
    "version": 3
   },
   "file_extension": ".py",
   "mimetype": "text/x-python",
   "name": "python",
   "nbconvert_exporter": "python",
   "pygments_lexer": "ipython3",
   "version": "3.9.12"
  }
 },
 "nbformat": 4,
 "nbformat_minor": 5
}
